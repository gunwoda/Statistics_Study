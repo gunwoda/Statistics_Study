{
 "cells": [
  {
   "cell_type": "markdown",
   "id": "8aa9d58a-5ade-41b0-9e9b-b1ca3c949469",
   "metadata": {},
   "source": [
    "# Chapter 2. 데이터와 표본분포"
   ]
  },
  {
   "cell_type": "code",
   "execution_count": 1,
   "id": "44e594c0-f4ad-488d-ae26-bb6f42df7e6d",
   "metadata": {},
   "outputs": [],
   "source": [
    "import numpy as np\n",
    "import pandas as pd\n",
    "\n",
    "import matplotlib.pyplot as plt\n",
    "import seaborn as sns\n",
    "\n",
    "from scipy import stats\n",
    "\n",
    "from sklearn.utils import resample\n",
    "\n",
    "path = 'c:/reposit/data/book/practicalstatistics/'"
   ]
  },
  {
   "cell_type": "code",
   "execution_count": 2,
   "id": "86eb8c1c-d2ba-4d66-9719-685c7baf3183",
   "metadata": {},
   "outputs": [],
   "source": [
    "# 데이터 불러오기\n",
    "# loans_income = pd.read_csv(path + 'loans_income.csv', squeeze=True)\n",
    "loans_income = pd.read_csv(path + 'loans_income.csv').squeeze()\n",
    "nflx = pd.read_csv(path + 'sp500_data.csv.gz').NFLX"
   ]
  },
  {
   "cell_type": "code",
   "execution_count": 3,
   "id": "742a5d25-4345-4449-80a5-c3491c336cf7",
   "metadata": {},
   "outputs": [
    {
     "data": {
      "image/png": "[encoded data removed]",
      "text/plain": [
       "<Figure size 400x600 with 3 Axes>"
      ]
     },
     "metadata": {},
     "output_type": "display_data"
    }
   ],
   "source": [
    "sample_data = pd.DataFrame({\n",
    "    'income': loans_income.sample(1000),\n",
    "    'type': 'Data'\n",
    "})\n",
    "\n",
    "sample_mean_05 = pd.DataFrame({\n",
    "    'income': [loans_income.sample(5).mean() for _ in range(1000)],\n",
    "    'type': 'Mean of 5'\n",
    "})\n",
    "\n",
    "sample_mean_20 = pd.DataFrame({\n",
    "    'income': [loans_income.sample(20).mean() for _ in range(1000)],\n",
    "    'type': 'Mean of 20'\n",
    "})\n",
    "\n",
    "results = pd.concat([sample_data, sample_mean_05, sample_mean_20])\n",
    "\n",
    "g = sns.FacetGrid(results, col='type', col_wrap=1, height=2, aspect=2)\n",
    "g.map(plt.hist, 'income', range=[0, 200000], bins=40)\n",
    "g.set_axis_labels('Income', 'Count')\n",
    "g.set_titles('{col_name}')\n",
    "\n",
    "plt.show()"
   ]
  },
  {
   "cell_type": "markdown",
   "id": "c97f4137-4d95-4687-bc16-81adc704e02b",
   "metadata": {},
   "source": [
    "## 2.4 부트스트랩"
   ]
  },
  {
   "cell_type": "code",
   "execution_count": 4,
   "id": "9f0a791b-e1d7-4443-b6d1-5c13636c79b9",
   "metadata": {},
   "outputs": [
    {
     "name": "stdout",
     "output_type": "stream",
     "text": [
      "Bootstrap Statistics:\n",
      "original: 62000.0\n",
      "bias: 0.0\n",
      "std. error: 201.63301342563625\n"
     ]
    }
   ],
   "source": [
    "# 부트스트랩\n",
    "results = []\n",
    "\n",
    "for nrepeat in range(1000):\n",
    "    sample = resample(loans_income)\n",
    "    results.append(sample.median())\n",
    "\n",
    "results = pd.Series(results)\n",
    "\n",
    "print('Bootstrap Statistics:')\n",
    "print(f'original: {loans_income.median()}')\n",
    "print(f'bias: {results.median() - loans_income.median()}')\n",
    "print(f'std. error: {results.std()}')"
   ]
  },
  {
   "cell_type": "code",
   "execution_count": 5,
   "id": "f6193828-ae90-48a0-ab16-1bac533792c8",
   "metadata": {},
   "outputs": [
    {
     "name": "stdout",
     "output_type": "stream",
     "text": [
      "원래 데이터 샘플의 평균: 31.50\n",
      "부트스트랩 평균의 95% 신뢰구간: (19.80, 42.80)\n"
     ]
    }
   ],
   "source": [
    "# 부트스트랩 파이썬으로 구핸해보기\n",
    "# 원래 데이터 샘플\n",
    "original_data = np.array([23, 45, 56, 12, 9, 38, 56, 48, 20, 8])\n",
    "\n",
    "# 부트스트랩 샘플을 위한 반복 횟수\n",
    "n_bootstrap_samples = 1000\n",
    "\n",
    "# 부트스트랩 샘플의 평균을 저장할 리스트\n",
    "bootstrap_means = []\n",
    "\n",
    "for _ in range(n_bootstrap_samples):\n",
    "    # 복원 추출로 부트스트랩 샘플 생성\n",
    "    bootstrap_sample = np.random.choice(original_data, size=len(original_data), replace=True)\n",
    "    \n",
    "    # 부트스트랩 샘플의 평균 계산\n",
    "    bootstrap_mean = np.mean(bootstrap_sample)\n",
    "    \n",
    "    # 계산한 평균을 리스트에 저장\n",
    "    bootstrap_means.append(bootstrap_mean)\n",
    "\n",
    "# 부트스트랩으로 얻은 평균의 분포에서 신뢰구간 계산\n",
    "lower_bound = np.percentile(bootstrap_means, 2.5)\n",
    "upper_bound = np.percentile(bootstrap_means, 97.5)\n",
    "\n",
    "print(f\"원래 데이터 샘플의 평균: {np.mean(original_data):.2f}\")\n",
    "print(f\"부트스트랩 평균의 95% 신뢰구간: ({lower_bound:.2f}, {upper_bound:.2f})\")"
   ]
  },
  {
   "cell_type": "markdown",
   "id": "5ddf97f4-4c40-417b-9bb3-5eae85c6d4dc",
   "metadata": {},
   "source": [
    "## 2.6 정규분포"
   ]
  },
  {
   "cell_type": "code",
   "execution_count": 6,
   "id": "959269da-63fc-4f93-9603-86e95873cc81",
   "metadata": {},
   "outputs": [
    {
     "name": "stdout",
     "output_type": "stream",
     "text": [
      "Z-score of 45: 0.73863184972605\n"
     ]
    }
   ],
   "source": [
    "# 개별 데이터 포인트의 Z-점수 구하기\n",
    "# 데이터 샘플\n",
    "data = np.array([23, 45, 56, 12, 9, 38, 56, 48, 20, 8])\n",
    "\n",
    "# 데이터 샘플의 평균과 표준편차 계산\n",
    "mean = np.mean(data)\n",
    "std_dev = np.std(data)\n",
    "\n",
    "# 특정 데이터 포인트 (예: 45)\n",
    "data_point = 45\n",
    "\n",
    "# Z-점수 계산\n",
    "z_score = (data_point - mean) / std_dev\n",
    "\n",
    "print(f\"Z-score of {data_point}: {z_score}\")"
   ]
  },
  {
   "cell_type": "code",
   "execution_count": 7,
   "id": "ce15fbd2-2d67-48f6-ac68-604eecdef4bd",
   "metadata": {},
   "outputs": [
    {
     "name": "stdout",
     "output_type": "stream",
     "text": [
      "Z-scores of the data: [-0.4650645   0.73863185  1.34048002 -1.06691267 -1.23105308  0.35563756\n",
      "  1.34048002  0.90277226 -0.62920491 -1.28576655]\n"
     ]
    }
   ],
   "source": [
    "# 전체 데이터 샘플의 Z-점수 구하기\n",
    "# 데이터 샘플\n",
    "data = np.array([23, 45, 56, 12, 9, 38, 56, 48, 20, 8])\n",
    "\n",
    "# 데이터 샘플의 평균과 표준편차 계산\n",
    "mean = np.mean(data)\n",
    "std_dev = np.std(data)\n",
    "\n",
    "# 전체 데이터의 Z-점수 계산\n",
    "z_scores = (data - mean) / std_dev\n",
    "\n",
    "print(f\"Z-scores of the data: {z_scores}\")"
   ]
  },
  {
   "cell_type": "markdown",
   "id": "40beef32-8728-457e-bac0-677b0dd02e43",
   "metadata": {},
   "source": [
    "### 2.6.1 표준정규분포와 QQ 그림"
   ]
  },
  {
   "cell_type": "code",
   "execution_count": 8,
   "id": "d7aedb82-5b66-429f-be34-fce151cfe0bc",
   "metadata": {},
   "outputs": [
    {
     "data": {
      "image/png": "[encoded data removed]",
      "text/plain": [
       "<Figure size 400x400 with 1 Axes>"
      ]
     },
     "metadata": {},
     "output_type": "display_data"
    }
   ],
   "source": [
    "fig, ax = plt.subplots(figsize=(4, 4))\n",
    "norm_sample = stats.norm.rvs(size=100)\n",
    "stats.probplot(norm_sample, plot=ax)\n",
    "\n",
    "plt.show()"
   ]
  },
  {
   "cell_type": "markdown",
   "id": "bc791a41-4627-4185-988c-89b4660ffed0",
   "metadata": {},
   "source": [
    "## 2.7 긴 꼬리 분포"
   ]
  },
  {
   "cell_type": "code",
   "execution_count": 9,
   "id": "814a5fa2-5686-471b-a498-f230e8fd00eb",
   "metadata": {},
   "outputs": [
    {
     "data": {
      "image/png": "[encoded data removed]",
      "text/plain": [
       "<Figure size 400x400 with 1 Axes>"
      ]
     },
     "metadata": {},
     "output_type": "display_data"
    }
   ],
   "source": [
    "nflx = np.diff(np.log(nflx[nflx>0]))\n",
    "fig, ax = plt.subplots(figsize=(4, 4))\n",
    "stats.probplot(nflx, plot=ax)\n",
    "\n",
    "plt.show()"
   ]
  },
  {
   "cell_type": "markdown",
   "id": "fb660a1d-ac83-4137-ab6a-a375e559aedc",
   "metadata": {},
   "source": [
    "## 2.9 이항분포"
   ]
  },
  {
   "cell_type": "code",
   "execution_count": 10,
   "id": "cf6e140b-c236-4e8e-83b6-dad88de23957",
   "metadata": {},
   "outputs": [
    {
     "name": "stdout",
     "output_type": "stream",
     "text": [
      "0.07289999999999992\n",
      "0.99144\n"
     ]
    }
   ],
   "source": [
    "print(stats.binom.pmf(2, n=5, p=0.1))\n",
    "print(stats.binom.cdf(2, n=5, p=0.1))"
   ]
  },
  {
   "cell_type": "markdown",
   "id": "3da410cd-bed1-4420-9fe1-2dea298c317c",
   "metadata": {},
   "source": [
    "## 2.10 카이제곱분포"
   ]
  },
  {
   "cell_type": "markdown",
   "id": "6ea9523d-915e-41e3-941b-cf958d545fce",
   "metadata": {},
   "source": [
    "## 2.11 F 분포"
   ]
  },
  {
   "cell_type": "markdown",
   "id": "741d6258-041d-4dba-9136-e0fcaf28182e",
   "metadata": {},
   "source": [
    "## 2.12 푸아송 분포와 그 외 관련 분포들"
   ]
  },
  {
   "cell_type": "markdown",
   "id": "59c663a3-2fbf-4a21-a7b0-ec04590e4e35",
   "metadata": {},
   "source": [
    "### 2.12.1 푸아송 분포"
   ]
  },
  {
   "cell_type": "code",
   "execution_count": 11,
   "id": "fa25bf52-56e9-4e3f-a64a-9af9f03bba51",
   "metadata": {},
   "outputs": [
    {
     "data": {
      "text/plain": [
       "array([1, 2, 2, 3, 2, 2, 0, 0, 1, 6, 1, 2, 1, 1, 4, 3, 1, 3, 1, 0, 1, 2,\n",
       "       2, 1, 0, 0, 6, 1, 0, 1, 3, 0, 3, 2, 1, 3, 4, 2, 1, 0, 4, 2, 0, 3,\n",
       "       3, 3, 6, 0, 4, 2, 3, 2, 2, 0, 2, 3, 1, 2, 4, 2, 4, 4, 4, 2, 2, 1,\n",
       "       4, 1, 0, 2, 0, 1, 2, 3, 3, 1, 4, 1, 1, 4, 2, 2, 3, 2, 1, 1, 3, 0,\n",
       "       3, 4, 5, 1, 2, 2, 0, 1, 4, 1, 0, 0], dtype=int64)"
      ]
     },
     "execution_count": 11,
     "metadata": {},
     "output_type": "execute_result"
    }
   ],
   "source": [
    "stats.poisson.rvs(2, size=100)"
   ]
  },
  {
   "cell_type": "markdown",
   "id": "e4827e4c-e6c4-4027-82fc-c763764e5777",
   "metadata": {},
   "source": [
    "### 2.12.2 지수분포"
   ]
  },
  {
   "cell_type": "code",
   "execution_count": 12,
   "id": "d25ddc44-c669-4758-ab47-b22f15ca2d76",
   "metadata": {},
   "outputs": [
    {
     "data": {
      "text/plain": [
       "array([ 9.73468611,  3.13350092,  0.23217519, 12.27406983,  4.72658378,\n",
       "        6.09809409,  0.85110704,  9.96491981, 19.28533509,  0.05832237,\n",
       "        0.33523482,  3.81967586, 13.0362264 ,  6.1758382 , 14.42562287,\n",
       "        5.12421847,  7.60803706,  1.59896571,  8.0049346 ,  1.14097173,\n",
       "        1.66750681,  2.20536151, 11.34676157,  7.44925075,  8.66213798,\n",
       "        1.35185384,  2.01107091, 14.65870039,  4.04502694,  0.80087882,\n",
       "       11.37788855,  1.0267304 ,  4.86446061, 11.64299433,  3.399748  ,\n",
       "        3.60748319,  4.21036208, 10.82814541,  0.05736017,  1.34386512,\n",
       "        0.76612988,  4.69180037,  1.65109153, 10.03653233,  2.45167405,\n",
       "       20.08219647,  0.45608682,  0.38518955,  4.23333193, 18.84278779,\n",
       "        3.85935472,  2.29599086,  3.57142299,  1.50893194,  7.64113313,\n",
       "        0.82805171,  0.41468605,  7.46515847,  2.45180688,  3.64661974,\n",
       "        8.26548675,  7.09875299, 11.14557117,  0.50790098,  2.76678534,\n",
       "        0.54164476,  2.75130282,  0.15509539,  0.75278901,  0.03785024,\n",
       "       15.42031362,  5.40208445, 11.44885629, 15.44969297,  0.11476975,\n",
       "        4.59366327,  3.91860555,  1.86618489, 16.12486366,  2.33105033,\n",
       "        1.46729857,  1.492871  ,  3.53178214,  9.5726157 ,  0.64100025,\n",
       "        2.41060128, 10.02198799,  1.89318269,  0.26729879,  2.94591275,\n",
       "        0.04391668,  1.62367645,  8.80679564,  0.93723182, 12.41846808,\n",
       "        1.60003222,  0.22068601,  0.44438781,  1.86065471,  1.65773895])"
      ]
     },
     "execution_count": 12,
     "metadata": {},
     "output_type": "execute_result"
    }
   ],
   "source": [
    "stats.expon.rvs(scale=0.2, size=100)\n",
    "stats.expon.rvs(scale=5, size=100)"
   ]
  },
  {
   "cell_type": "markdown",
   "id": "e007b864-9a39-4631-a28a-e74f10bd8613",
   "metadata": {},
   "source": [
    "### 2.12.3 고장률 추정"
   ]
  },
  {
   "cell_type": "markdown",
   "id": "1795c4ca-57d0-4a0f-b4f2-93647cc7e0e3",
   "metadata": {},
   "source": [
    "### 2.12.4 베이불 분포"
   ]
  },
  {
   "cell_type": "code",
   "execution_count": 13,
   "id": "95e330ff-3e9f-4ee3-be98-90e283e8e25d",
   "metadata": {},
   "outputs": [
    {
     "data": {
      "text/plain": [
       "array([ 6014.93840943,   827.61254793,  4810.3712812 ,  6806.95731817,\n",
       "        9648.71049579,  2680.40000597,  8136.5244714 ,  1096.9891305 ,\n",
       "        6336.21419549,  5405.05205152,  1731.11575179,  3512.54903263,\n",
       "        5446.49406984,  4872.78287123,  1979.98289876,  7527.76455056,\n",
       "         668.72548465,  1751.07865936,  2894.30703347,  3537.90052094,\n",
       "        6763.09584963,  2780.25911977,  3649.54955453,  1908.60068538,\n",
       "        5330.26977029,  1514.45161205,  1474.94127682,  2037.87434645,\n",
       "        4678.14077023,  8802.05946683,  2565.03817537,  4187.19659838,\n",
       "        8060.46223643,  1749.75157682,  5697.71006407,  6068.82155604,\n",
       "        2017.57138523,  4834.71211746,  3476.43021843,  2319.24637302,\n",
       "       10879.14741116,  3448.97198635,  3779.69499718,  4265.64970443,\n",
       "        4572.47491076,  4381.37061547, 12964.05250606,  3010.37043814,\n",
       "        1024.20738866,  4072.77136804,  8625.10242754,  5615.69348598,\n",
       "        6392.90097549,  5447.78327149,  1231.91519479,  5526.99913323,\n",
       "        4925.0372875 ,  6360.65903057, 10386.60598425,  7296.90479915,\n",
       "        4796.91203934,  2061.85873653,  1719.52155327,  6437.99109108,\n",
       "        2320.31340655,   670.07972409,  2645.61744759,  4962.13625679,\n",
       "        1678.27496616,  5529.05670105,  2214.61875657,  2765.67908656,\n",
       "        3487.80159014,  2401.10485878,  4169.74992473,  2354.98620366,\n",
       "        5597.9944769 ,  3965.02014712,  4173.77746885,  2320.26825328,\n",
       "        6225.30980119, 12055.12478348,  2888.00660051,  1587.30937148,\n",
       "        1207.78404863,  7486.34586341,  7119.25508377,  1980.56522593,\n",
       "        5088.28305373,  2882.64236598,  8951.57053762,  3178.89499008,\n",
       "        4188.44987925,  2310.42660014,  4257.64241104,  1422.40240991,\n",
       "        4255.39400665,  4356.05112328,  2510.14405083,  5871.96637803])"
      ]
     },
     "execution_count": 13,
     "metadata": {},
     "output_type": "execute_result"
    }
   ],
   "source": [
    "stats.weibull_min.rvs(1.5, scale=5000, size=100)"
   ]
  }
 ],
 "metadata": {
  "kernelspec": {
   "display_name": "Python 3 (ipykernel)",
   "language": "python",
   "name": "python3"
  },
  "language_info": {
   "codemirror_mode": {
    "name": "ipython",
    "version": 3
   },
   "file_extension": ".py",
   "mimetype": "text/x-python",
   "name": "python",
   "nbconvert_exporter": "python",
   "pygments_lexer": "ipython3",
   "version": "3.9.16"
  }
 },
 "nbformat": 4,
 "nbformat_minor": 5
}
